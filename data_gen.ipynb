{
 "cells": [
  {
   "cell_type": "code",
   "execution_count": 9,
   "metadata": {},
   "outputs": [],
   "source": [
    "import numpy as np\n",
    "import matplotlib\n",
    "import matplotlib.pyplot as plt\n",
    "from matplotlib import font_manager\n",
    "import pandas as pd\n",
    "from sklearn.linear_model import LinearRegression\n",
    "from sklearn.tree import DecisionTreeClassifier\n",
    "from sklearn.model_selection import train_test_split\n",
    "from sklearn import preprocessing\n",
    "import seaborn as sns\n",
    "import japanize_matplotlib\n",
    "from PIL import Image\n",
    "import os\n",
    "import cv2\n",
    "\n",
    "from NN_functions import txt_img, img_data\n"
   ]
  },
  {
   "cell_type": "code",
   "execution_count": 10,
   "metadata": {},
   "outputs": [],
   "source": [
    "df_json = pd.DataFrame(pd.read_json('kanji_extra.json')).T\n",
    "\n",
    "df_extra = df_json.reset_index()[['index', 'strokes']].rename(columns={'index':'kanji'}).truncate(after=12155)[0:6353]"
   ]
  },
  {
   "cell_type": "code",
   "execution_count": 11,
   "metadata": {},
   "outputs": [],
   "source": [
    "df_extra_test = df_extra.sample(n=300).reset_index(drop=True)"
   ]
  },
  {
   "cell_type": "code",
   "execution_count": 12,
   "metadata": {},
   "outputs": [
    {
     "data": {
      "image/png": "[encoded data removed]",
      "text/plain": [
       "<Figure size 500x500 with 1 Axes>"
      ]
     },
     "metadata": {},
     "output_type": "display_data"
    }
   ],
   "source": [
    "dist_plot = sns.displot(data=df_extra_test,x='strokes' , fill = True, color='black',edgecolor=\"silver\", linewidth=1, kde='True')\n",
    "dist_plot.set(xticks=np.arange(0,30,2))\n",
    "plt.show()"
   ]
  },
  {
   "cell_type": "code",
   "execution_count": 13,
   "metadata": {},
   "outputs": [],
   "source": [
    "new_df_extra = pd.merge(df_extra,df_extra_test, indicator=True, how='outer').query('_merge==\"left_only\"').drop('_merge', axis=1).reset_index(drop=True)"
   ]
  },
  {
   "cell_type": "code",
   "execution_count": 20,
   "metadata": {},
   "outputs": [
    {
     "name": "stdout",
     "output_type": "stream",
     "text": [
      "[FontEntry(fname='/Users/rashidalawadhi/Library/Python/3.9/lib/python/site-packages/matplotlib/mpl-data/fonts/ttf/XANO-mincho-U32.ttf', name='XANO-mincho-U32', style='normal', variant='normal', weight=400, stretch='normal', size='scalable')]\n"
     ]
    }
   ],
   "source": [
    "print([f for f in font_manager.fontManager.ttflist if 'XA' in f.name])"
   ]
  },
  {
   "cell_type": "code",
   "execution_count": 21,
   "metadata": {},
   "outputs": [],
   "source": [
    "data0 = np.array(img_data(new_df_extra, 0,6053, 'New Tegomin'))/255\n",
    "data1 = np.array(img_data(new_df_extra, 0, 6053, 'Kaisei HarunoUmi'))/255\n",
    "data2 = np.array(img_data(new_df_extra, 0, 6053, 'Klee One'))/255\n",
    "data3 = np.array(img_data(new_df_extra, 0, 6053, 'Yuji Syuku'))/255\n",
    "data4 = np.array(img_data(new_df_extra, 0, 6053, 'Toppan Bunkyu Gothic'))/255"
   ]
  },
  {
   "cell_type": "code",
   "execution_count": 22,
   "metadata": {},
   "outputs": [],
   "source": [
    "test_data0 = np.array(img_data(df_extra_test, 0, 300, 'XANO-mincho-U32'))/255\n",
    "test_data1 = np.array(img_data(df_extra_test, 0, 300, 'Shippori Mincho'))/255\n"
   ]
  },
  {
   "cell_type": "code",
   "execution_count": 23,
   "metadata": {},
   "outputs": [],
   "source": [
    "full_data_trimmed = np.concatenate((data0, data1, data2, data3, data4), axis=0)\n",
    "full_test_data = np.concatenate((test_data0, test_data1), axis=0)"
   ]
  },
  {
   "cell_type": "code",
   "execution_count": 24,
   "metadata": {},
   "outputs": [],
   "source": [
    "np.save('/Users/rashidalawadhi/Documents/GitHub/NN_kanji/data/trimmed_df/full_data_trimmed', full_data_trimmed)\n",
    "np.save('/Users/rashidalawadhi/Documents/GitHub/NN_kanji/data/trimmed_df/full_test_data', full_test_data)"
   ]
  },
  {
   "cell_type": "code",
   "execution_count": 27,
   "metadata": {},
   "outputs": [],
   "source": [
    "new_df_extra.to_csv('/Users/rashidalawadhi/Documents/GitHub/NN_kanji/data/trimmed_df/trimmed_df.csv', index=False)\n",
    "df_extra_test.to_csv('/Users/rashidalawadhi/Documents/GitHub/NN_kanji/data/trimmed_df/test_df.csv', index=False)"
   ]
  },
  {
   "cell_type": "code",
   "execution_count": 29,
   "metadata": {},
   "outputs": [
    {
     "data": {
      "text/html": [
       "<div>\n",
       "<style scoped>\n",
       "    .dataframe tbody tr th:only-of-type {\n",
       "        vertical-align: middle;\n",
       "    }\n",
       "\n",
       "    .dataframe tbody tr th {\n",
       "        vertical-align: top;\n",
       "    }\n",
       "\n",
       "    .dataframe thead th {\n",
       "        text-align: right;\n",
       "    }\n",
       "</style>\n",
       "<table border=\"1\" class=\"dataframe\">\n",
       "  <thead>\n",
       "    <tr style=\"text-align: right;\">\n",
       "      <th></th>\n",
       "      <th>kanji</th>\n",
       "      <th>strokes</th>\n",
       "    </tr>\n",
       "  </thead>\n",
       "  <tbody>\n",
       "    <tr>\n",
       "      <th>0</th>\n",
       "      <td>愍</td>\n",
       "      <td>13</td>\n",
       "    </tr>\n",
       "    <tr>\n",
       "      <th>1</th>\n",
       "      <td>瘋</td>\n",
       "      <td>14</td>\n",
       "    </tr>\n",
       "    <tr>\n",
       "      <th>2</th>\n",
       "      <td>縢</td>\n",
       "      <td>16</td>\n",
       "    </tr>\n",
       "    <tr>\n",
       "      <th>3</th>\n",
       "      <td>憑</td>\n",
       "      <td>16</td>\n",
       "    </tr>\n",
       "    <tr>\n",
       "      <th>4</th>\n",
       "      <td>爾</td>\n",
       "      <td>14</td>\n",
       "    </tr>\n",
       "    <tr>\n",
       "      <th>...</th>\n",
       "      <td>...</td>\n",
       "      <td>...</td>\n",
       "    </tr>\n",
       "    <tr>\n",
       "      <th>295</th>\n",
       "      <td>贅</td>\n",
       "      <td>18</td>\n",
       "    </tr>\n",
       "    <tr>\n",
       "      <th>296</th>\n",
       "      <td>沂</td>\n",
       "      <td>7</td>\n",
       "    </tr>\n",
       "    <tr>\n",
       "      <th>297</th>\n",
       "      <td>苑</td>\n",
       "      <td>8</td>\n",
       "    </tr>\n",
       "    <tr>\n",
       "      <th>298</th>\n",
       "      <td>泡</td>\n",
       "      <td>8</td>\n",
       "    </tr>\n",
       "    <tr>\n",
       "      <th>299</th>\n",
       "      <td>閹</td>\n",
       "      <td>16</td>\n",
       "    </tr>\n",
       "  </tbody>\n",
       "</table>\n",
       "<p>300 rows × 2 columns</p>\n",
       "</div>"
      ],
      "text/plain": [
       "    kanji  strokes\n",
       "0       愍       13\n",
       "1       瘋       14\n",
       "2       縢       16\n",
       "3       憑       16\n",
       "4       爾       14\n",
       "..    ...      ...\n",
       "295     贅       18\n",
       "296     沂        7\n",
       "297     苑        8\n",
       "298     泡        8\n",
       "299     閹       16\n",
       "\n",
       "[300 rows x 2 columns]"
      ]
     },
     "execution_count": 29,
     "metadata": {},
     "output_type": "execute_result"
    }
   ],
   "source": [
    "pd.read_csv('data/trimmed_df/test_df.csv')"
   ]
  },
  {
   "cell_type": "code",
   "execution_count": null,
   "metadata": {},
   "outputs": [],
   "source": []
  }
 ],
 "metadata": {
  "kernelspec": {
   "display_name": "Python 3",
   "language": "python",
   "name": "python3"
  },
  "language_info": {
   "codemirror_mode": {
    "name": "ipython",
    "version": 3
   },
   "file_extension": ".py",
   "mimetype": "text/x-python",
   "name": "python",
   "nbconvert_exporter": "python",
   "pygments_lexer": "ipython3",
   "version": "3.9.16"
  },
  "orig_nbformat": 4
 },
 "nbformat": 4,
 "nbformat_minor": 2
}
