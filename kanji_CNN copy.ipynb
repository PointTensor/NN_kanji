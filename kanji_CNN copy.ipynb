{
 "cells": [
  {
   "cell_type": "code",
   "execution_count": 3,
   "metadata": {},
   "outputs": [],
   "source": [
    "import numpy as np\n",
    "import matplotlib\n",
    "import matplotlib.pyplot as plt\n",
    "from matplotlib import font_manager\n",
    "import pandas as pd\n",
    "from sklearn.linear_model import LinearRegression\n",
    "from sklearn.tree import DecisionTreeClassifier\n",
    "from sklearn.model_selection import train_test_split\n",
    "from sklearn import preprocessing\n",
    "import seaborn as sns\n",
    "import japanize_matplotlib\n",
    "from PIL import Image\n",
    "import os\n"
   ]
  },
  {
   "cell_type": "code",
   "execution_count": null,
   "metadata": {},
   "outputs": [],
   "source": [
    "print(matplotlib.matplotlib_fname())"
   ]
  },
  {
   "cell_type": "code",
   "execution_count": null,
   "metadata": {},
   "outputs": [],
   "source": [
    "print([f for f in font_manager.fontManager.ttflist if 'Nchifont+' in f.name])\n",
    "\n",
    "matplotlib.rcParams['font.family'] = ['Nchifont+']\n"
   ]
  },
  {
   "cell_type": "code",
   "execution_count": null,
   "metadata": {},
   "outputs": [],
   "source": [
    "print(matplotlib.get_cachedir())\n"
   ]
  },
  {
   "cell_type": "code",
   "execution_count": 12,
   "metadata": {},
   "outputs": [
    {
     "data": {
      "image/png": "[encoded data removed]",
      "text/plain": [
       "<Figure size 160x150 with 1 Axes>"
      ]
     },
     "metadata": {},
     "output_type": "display_data"
    }
   ],
   "source": [
    "#This function turns text into a picture\n",
    "\n",
    "def txt_img(txt):\n",
    "    fig = plt.figure()\n",
    "    fig.set_figheight(1.5)\n",
    "    fig.set_figwidth(1.6)\n",
    "    plt.axis('off')\n",
    "    plt.text(-0.05, 0.03, txt, dict(size=100))\n",
    "    plt.ioff()\n",
    "\n",
    "\n",
    "txt_img('心')\n",
    "plt.show()"
   ]
  },
  {
   "cell_type": "code",
   "execution_count": 4,
   "metadata": {},
   "outputs": [
    {
     "data": {
      "text/html": [
       "<div>\n",
       "<style scoped>\n",
       "    .dataframe tbody tr th:only-of-type {\n",
       "        vertical-align: middle;\n",
       "    }\n",
       "\n",
       "    .dataframe tbody tr th {\n",
       "        vertical-align: top;\n",
       "    }\n",
       "\n",
       "    .dataframe thead th {\n",
       "        text-align: right;\n",
       "    }\n",
       "</style>\n",
       "<table border=\"1\" class=\"dataframe\">\n",
       "  <thead>\n",
       "    <tr style=\"text-align: right;\">\n",
       "      <th></th>\n",
       "      <th>kanji</th>\n",
       "      <th>strokes</th>\n",
       "    </tr>\n",
       "  </thead>\n",
       "  <tbody>\n",
       "    <tr>\n",
       "      <th>0</th>\n",
       "      <td>一</td>\n",
       "      <td>1</td>\n",
       "    </tr>\n",
       "    <tr>\n",
       "      <th>1</th>\n",
       "      <td>二</td>\n",
       "      <td>2</td>\n",
       "    </tr>\n",
       "    <tr>\n",
       "      <th>2</th>\n",
       "      <td>九</td>\n",
       "      <td>2</td>\n",
       "    </tr>\n",
       "    <tr>\n",
       "      <th>3</th>\n",
       "      <td>七</td>\n",
       "      <td>2</td>\n",
       "    </tr>\n",
       "    <tr>\n",
       "      <th>4</th>\n",
       "      <td>人</td>\n",
       "      <td>2</td>\n",
       "    </tr>\n",
       "  </tbody>\n",
       "</table>\n",
       "</div>"
      ],
      "text/plain": [
       "  kanji strokes\n",
       "0     一       1\n",
       "1     二       2\n",
       "2     九       2\n",
       "3     七       2\n",
       "4     人       2"
      ]
     },
     "execution_count": 4,
     "metadata": {},
     "output_type": "execute_result"
    }
   ],
   "source": [
    "#This is our dataset\n",
    "\n",
    "df_json = pd.DataFrame(pd.read_json('kanji_extra.json')).T\n",
    "\n",
    "df_extra = df_json.reset_index()[['index', 'strokes']].rename(columns={'index':'kanji'}).truncate(after=12155)\n",
    "df_extra.head()\n",
    "# df_extra_augmented = pd.concat([df_extra]*5, ignore_index=True)\n",
    "# df_extra_augmented"
   ]
  },
  {
   "cell_type": "code",
   "execution_count": 17,
   "metadata": {},
   "outputs": [
    {
     "name": "stderr",
     "output_type": "stream",
     "text": [
      "/var/folders/8h/mgykypr12rn6hfmp46xcxkwh0000gn/T/ipykernel_1315/3108409316.py:3: RuntimeWarning: More than 20 figures have been opened. Figures created through the pyplot interface (`matplotlib.pyplot.figure`) are retained until explicitly closed and may consume too much memory. (To control this warning, see the rcParam `figure.max_open_warning`). Consider using `matplotlib.pyplot.close()`.\n",
      "  fig = plt.figure()\n"
     ]
    }
   ],
   "source": [
    "#This function takes each kanji from the dataframe, converts it into a grayscale image, and then the image into a numpy array and then appends it into a list called data\n",
    "\n",
    "from scipy.ndimage import rotate\n",
    "\n",
    "no = 0\n",
    "data=[]\n",
    "for i in df_extra['kanji']:\n",
    "    txt_img(i)\n",
    "    name = 'kanji_images_CNN_extra/kanji_' + str(no)+'.png'\n",
    "    plt.savefig(name, dpi=25)\n",
    "    no +=1\n",
    "    # rot_img = np.array(Image.fromarray(np.array(Image.open(name).convert('L'))).rotate(fillcolor='white', angle=np.random.randint(360,size=1)))\n",
    "    data.append(np.array(Image.open(name).convert('L')))\n",
    "    # data.append(rot_img)\n"
   ]
  },
  {
   "cell_type": "code",
   "execution_count": 141,
   "metadata": {},
   "outputs": [
    {
     "data": {
      "text/plain": [
       "array([[3.63713078e-15, 3.63713078e-15, 3.63713078e-15, ...,\n",
       "        3.63713078e-15, 3.63713078e-15, 3.63713078e-15],\n",
       "       [3.63713078e-15, 3.63713078e-15, 3.63713078e-15, ...,\n",
       "        3.63713078e-15, 3.63713078e-15, 3.63713078e-15],\n",
       "       [3.63713078e-15, 3.63713078e-15, 3.63713078e-15, ...,\n",
       "        3.63713078e-15, 3.63713078e-15, 3.63713078e-15],\n",
       "       ...,\n",
       "       [3.63713078e-15, 3.63713078e-15, 3.63713078e-15, ...,\n",
       "        3.63713078e-15, 3.63713078e-15, 3.63713078e-15],\n",
       "       [3.63713078e-15, 3.63713078e-15, 3.63713078e-15, ...,\n",
       "        3.63713078e-15, 3.63713078e-15, 3.63713078e-15],\n",
       "       [3.63713078e-15, 3.63713078e-15, 3.63713078e-15, ...,\n",
       "        3.63713078e-15, 3.63713078e-15, 3.63713078e-15]])"
      ]
     },
     "execution_count": 141,
     "metadata": {},
     "output_type": "execute_result"
    }
   ],
   "source": [
    "#normalise our data such that the range for each element is 0 to 1\n",
    "\n",
    "data=np.array(data)/255\n",
    "data.shape\n"
   ]
  },
  {
   "cell_type": "code",
   "execution_count": 21,
   "metadata": {},
   "outputs": [
    {
     "data": {
      "text/plain": [
       "33"
      ]
     },
     "execution_count": 21,
     "metadata": {},
     "output_type": "execute_result"
    }
   ],
   "source": [
    "#Note that our maximun number of stroke is 33\n",
    "\n",
    "df_extra['strokes'].max()"
   ]
  },
  {
   "cell_type": "code",
   "execution_count": 22,
   "metadata": {},
   "outputs": [
    {
     "data": {
      "text/plain": [
       "5760     14\n",
       "6572     14\n",
       "8372     18\n",
       "2744     10\n",
       "11021    12\n",
       "         ..\n",
       "6800      7\n",
       "1639      6\n",
       "3570     11\n",
       "10659    13\n",
       "10023    15\n",
       "Name: strokes, Length: 11548, dtype: int64"
      ]
     },
     "execution_count": 22,
     "metadata": {},
     "output_type": "execute_result"
    }
   ],
   "source": [
    "#split the dataset into training and test sets\n",
    "X_train, X_test, y_train, y_test = train_test_split(data, df_extra['strokes'].astype('int'), test_size=0.05, shuffle=True)"
   ]
  },
  {
   "cell_type": "code",
   "execution_count": 7,
   "metadata": {},
   "outputs": [],
   "source": [
    "#Time to build our model and train it\n",
    "\n",
    "from tensorflow import keras\n",
    "from keras.callbacks import ModelCheckpoint\n",
    "from tensorflow.keras import layers\n",
    "from keras.layers import Conv2D, BatchNormalization, MaxPooling2D, Dropout, Flatten, Dense\n",
    "from keras import models"
   ]
  },
  {
   "cell_type": "code",
   "execution_count": 24,
   "metadata": {},
   "outputs": [
    {
     "name": "stdout",
     "output_type": "stream",
     "text": [
      "Model: \"sequential\"\n",
      "_________________________________________________________________\n",
      " Layer (type)                Output Shape              Param #   \n",
      "=================================================================\n",
      " conv2d (Conv2D)             (None, 37, 40, 128)       1280      \n",
      "                                                                 \n",
      " batch_normalization (BatchN  (None, 37, 40, 128)      512       \n",
      " ormalization)                                                   \n",
      "                                                                 \n",
      " conv2d_1 (Conv2D)           (None, 35, 38, 64)        73792     \n",
      "                                                                 \n",
      " batch_normalization_1 (Batc  (None, 35, 38, 64)       256       \n",
      " hNormalization)                                                 \n",
      "                                                                 \n",
      " conv2d_2 (Conv2D)           (None, 35, 38, 64)        102464    \n",
      "                                                                 \n",
      " max_pooling2d (MaxPooling2D  (None, 17, 19, 64)       0         \n",
      " )                                                               \n",
      "                                                                 \n",
      " batch_normalization_2 (Batc  (None, 17, 19, 64)       256       \n",
      " hNormalization)                                                 \n",
      "                                                                 \n",
      " dropout (Dropout)           (None, 17, 19, 64)        0         \n",
      "                                                                 \n",
      " conv2d_3 (Conv2D)           (None, 17, 19, 64)        36928     \n",
      "                                                                 \n",
      " max_pooling2d_1 (MaxPooling  (None, 8, 9, 64)         0         \n",
      " 2D)                                                             \n",
      "                                                                 \n",
      " batch_normalization_3 (Batc  (None, 8, 9, 64)         256       \n",
      " hNormalization)                                                 \n",
      "                                                                 \n",
      " conv2d_4 (Conv2D)           (None, 8, 9, 32)          18464     \n",
      "                                                                 \n",
      " dropout_1 (Dropout)         (None, 8, 9, 32)          0         \n",
      "                                                                 \n",
      " flatten (Flatten)           (None, 2304)              0         \n",
      "                                                                 \n",
      " dense (Dense)               (None, 128)               295040    \n",
      "                                                                 \n",
      " dropout_2 (Dropout)         (None, 128)               0         \n",
      "                                                                 \n",
      " dense_1 (Dense)             (None, 35)                4515      \n",
      "                                                                 \n",
      "=================================================================\n",
      "Total params: 533,763\n",
      "Trainable params: 533,123\n",
      "Non-trainable params: 640\n",
      "_________________________________________________________________\n"
     ]
    }
   ],
   "source": [
    "input_shape = (37, 40, 1)\n",
    "num_classes = 35\n",
    "\n",
    "model_path = '/Users/rashidalawadhi/Documents/GitHub/kanji_NN/kanji_model.hdf5'\n",
    "\n",
    "x_train = np.expand_dims(X_train, -1)\n",
    "x_test = np.expand_dims(X_test, -1)\n",
    "\n",
    "# Model\n",
    "model = keras.Sequential()\n",
    "\n",
    "\n",
    "# Add convolution 2D\n",
    "model.add(Conv2D(128, kernel_size=(3, 3),activation='relu', padding=\"same\",\n",
    "        kernel_initializer='he_normal',input_shape=input_shape))\n",
    "\n",
    "model.add(BatchNormalization())\n",
    "\n",
    "model.add(Conv2D(64,kernel_size=(3, 3), activation='relu'))\n",
    "model.add(BatchNormalization())\n",
    "model.add(Conv2D(64,kernel_size=5,strides=1,padding='same',activation='relu'))\n",
    "model.add(MaxPooling2D((2, 2)))\n",
    "model.add(BatchNormalization())\n",
    "# Add dropouts to the model\n",
    "model.add(Dropout(0.4))\n",
    "model.add(Conv2D(64, kernel_size=(3, 3), strides=1,padding='same', activation='relu'))\n",
    "model.add(MaxPooling2D(pool_size=(2, 2)))\n",
    "model.add(BatchNormalization())\n",
    "model.add(Conv2D(32, kernel_size=(3, 3), strides=1,padding='same', activation='relu'))\n",
    "# Add dropouts to the model\n",
    "model.add(Dropout(0.4))\n",
    "model.add(Flatten())\n",
    "model.add(Dense(128, activation='relu'))\n",
    "# Add dropouts to the model\n",
    "model.add(Dropout(0.4))\n",
    "model.add(Dense(num_classes, activation='softmax'))\n",
    "\n",
    "\n",
    "y_train = keras.utils.to_categorical(y_train, num_classes)\n",
    "y_test = keras.utils.to_categorical(y_test, num_classes)\n",
    "\n",
    "\n",
    "model.summary()\n",
    "\n"
   ]
  },
  {
   "cell_type": "code",
   "execution_count": null,
   "metadata": {},
   "outputs": [],
   "source": [
    "batch_size = 64\n",
    "epochs = 40\n",
    "\n",
    "checkpoint = keras.callbacks.ModelCheckpoint(\n",
    "    filepath='/Users/rashidalawadhi/Documents/GitHub/kanji_NN/checkpoints/model_kanji.h5',\n",
    "    monitor= \"val_loss\",\n",
    "    verbose = 0,\n",
    "    save_freq='epoch',\n",
    "    save_best_only =True,\n",
    "    save_weights_only = True,\n",
    "    mode =  \"auto\",\n",
    ")\n",
    "\n",
    "# opt = keras.optimizers.Adam(learning_rate=0.05)\n",
    "\n",
    "model.compile(loss=\"categorical_crossentropy\", optimizer='adam', metrics=[\"accuracy\"])\n",
    "\n",
    "history=model.fit(x_train, y_train, batch_size=batch_size, epochs=epochs, validation_split=0.2, callbacks=[checkpoint])\n",
    "\n"
   ]
  },
  {
   "cell_type": "code",
   "execution_count": null,
   "metadata": {},
   "outputs": [],
   "source": [
    "score = model.evaluate(x_test, y_test, verbose=0)\n",
    "print(score)"
   ]
  },
  {
   "cell_type": "code",
   "execution_count": null,
   "metadata": {},
   "outputs": [
    {
     "name": "stdout",
     "output_type": "stream",
     "text": [
      "Average accuracy over 40 epochs: 44.0 % bach=64\n",
      "Average loss over 40 epochs: 1.378\n",
      "0.6177489161491394 0.921973705291748\n"
     ]
    }
   ],
   "source": [
    "print('Average accuracy over '+str(epochs)+' epochs:',str((np.mean(history.history['val_accuracy'])*100).round(1))+' %','bach='+str(batch_size))\n",
    "print('Average loss over '+str(epochs)+' epochs:',str((np.mean(history.history['val_loss'])).round(3)))\n",
    "print(max(history.history['val_accuracy']),min(history.history['val_loss']))"
   ]
  },
  {
   "cell_type": "code",
   "execution_count": null,
   "metadata": {},
   "outputs": [
    {
     "data": {
      "image/png": "[encoded data removed]",
      "text/plain": [
       "<Figure size 640x480 with 1 Axes>"
      ]
     },
     "metadata": {},
     "output_type": "display_data"
    },
    {
     "data": {
      "image/png": "[encoded data removed]",
      "text/plain": [
       "<Figure size 640x480 with 1 Axes>"
      ]
     },
     "metadata": {},
     "output_type": "display_data"
    }
   ],
   "source": [
    "# summarize history for accuracy\n",
    "plt.plot(history.history['accuracy'])\n",
    "plt.plot(history.history['val_accuracy'])\n",
    "plt.title('model accuracy')\n",
    "plt.ylabel('accuracy')\n",
    "plt.xlabel('epoch')\n",
    "plt.legend(['Train', 'Validation'], loc='upper left')\n",
    "plt.show()\n",
    "# summarize history for loss\n",
    "plt.plot(history.history['loss'])\n",
    "plt.plot(history.history['val_loss'])\n",
    "plt.title('model loss')\n",
    "plt.ylabel('loss')\n",
    "plt.xlabel('epoch')\n",
    "plt.legend(['Train', 'Validation'], loc='upper left')\n",
    "plt.show()\n"
   ]
  },
  {
   "cell_type": "code",
   "execution_count": 14,
   "metadata": {},
   "outputs": [],
   "source": [
    "#Save model\n",
    "\n",
    "from tensorflow.keras.models import load_model\n",
    "\n"
   ]
  },
  {
   "cell_type": "code",
   "execution_count": 15,
   "metadata": {},
   "outputs": [],
   "source": [
    "#Uncomment to save model\n",
    "\n",
    "# model.save('/Users/rashidalawadhi/Documents/GitHub/kanji_NN/models/kanjiCNN.h5')"
   ]
  },
  {
   "cell_type": "code",
   "execution_count": 16,
   "metadata": {},
   "outputs": [
    {
     "name": "stdout",
     "output_type": "stream",
     "text": [
      "Metal device set to: Apple M1 Pro\n",
      "\n",
      "systemMemory: 16.00 GB\n",
      "maxCacheSize: 5.33 GB\n",
      "\n"
     ]
    },
    {
     "name": "stderr",
     "output_type": "stream",
     "text": [
      "2023-04-18 13:00:43.837065: I tensorflow/core/common_runtime/pluggable_device/pluggable_device_factory.cc:305] Could not identify NUMA node of platform GPU ID 0, defaulting to 0. Your kernel may not have been built with NUMA support.\n",
      "2023-04-18 13:00:43.837179: I tensorflow/core/common_runtime/pluggable_device/pluggable_device_factory.cc:271] Created TensorFlow device (/job:localhost/replica:0/task:0/device:GPU:0 with 0 MB memory) -> physical PluggableDevice (device: 0, name: METAL, pci bus id: <undefined>)\n"
     ]
    }
   ],
   "source": [
    "new_model = load_model('/Users/rashidalawadhi/Documents/GitHub/kanji_NN/models/kanjiCNN.h5')"
   ]
  },
  {
   "cell_type": "code",
   "execution_count": 17,
   "metadata": {},
   "outputs": [
    {
     "name": "stdout",
     "output_type": "stream",
     "text": [
      "(37, 40)\n",
      "(37, 40)\n"
     ]
    },
    {
     "data": {
      "text/plain": [
       "(1, 37, 40)"
      ]
     },
     "execution_count": 17,
     "metadata": {},
     "output_type": "execute_result"
    }
   ],
   "source": [
    "img_path = '/Users/rashidalawadhi/Documents/GitHub/kanji_NN/kanji_images_CNN_extra/kanji_144.png'\n",
    "\n",
    "img_array = np.array(np.array(Image.open(img_path).convert('L'))/255)\n",
    "print(img_array.shape)\n",
    "imgtest = np.expand_dims(np.array(img_array), 0)\n",
    "print(img_array.shape)\n",
    "imgtest.shape"
   ]
  },
  {
   "cell_type": "code",
   "execution_count": 18,
   "metadata": {},
   "outputs": [
    {
     "name": "stdout",
     "output_type": "stream",
     "text": [
      "1/1 [==============================] - 0s 150ms/step\n"
     ]
    },
    {
     "name": "stderr",
     "output_type": "stream",
     "text": [
      "2023-04-18 13:00:47.860003: W tensorflow/core/platform/profile_utils/cpu_utils.cc:128] Failed to get CPU frequency: 0 Hz\n",
      "2023-04-18 13:00:47.916606: I tensorflow/core/grappler/optimizers/custom_graph_optimizer_registry.cc:113] Plugin optimizer for device_type GPU is enabled.\n"
     ]
    },
    {
     "data": {
      "text/plain": [
       "7"
      ]
     },
     "execution_count": 18,
     "metadata": {},
     "output_type": "execute_result"
    }
   ],
   "source": [
    "new_model.predict(imgtest).argmax()"
   ]
  },
  {
   "cell_type": "code",
   "execution_count": 14,
   "metadata": {},
   "outputs": [
    {
     "ename": "NameError",
     "evalue": "name 'x_test' is not defined",
     "output_type": "error",
     "traceback": [
      "\u001b[0;31m---------------------------------------------------------------------------\u001b[0m",
      "\u001b[0;31mNameError\u001b[0m                                 Traceback (most recent call last)",
      "Cell \u001b[0;32mIn[14], line 1\u001b[0m\n\u001b[0;32m----> 1\u001b[0m new_model\u001b[39m.\u001b[39mevaluate(x_test, y_test, verbose\u001b[39m=\u001b[39m\u001b[39m0\u001b[39m)\n",
      "\u001b[0;31mNameError\u001b[0m: name 'x_test' is not defined"
     ]
    }
   ],
   "source": [
    "new_model.evaluate(x_test, y_test, verbose=0)"
   ]
  },
  {
   "cell_type": "code",
   "execution_count": 15,
   "metadata": {},
   "outputs": [],
   "source": [
    "# new_model.summary()"
   ]
  },
  {
   "cell_type": "code",
   "execution_count": 28,
   "metadata": {},
   "outputs": [],
   "source": [
    "test_path = '/Users/rashidalawadhi/Documents/GitHub/kanji_NN/diff_font'\n",
    "txt_img('水')\n",
    "# plt.savefig(test_path+'/tKanji.png',dpi=25)\n",
    "\n",
    "no = 0\n",
    "data=[]\n",
    "for i in df_extra['kanji'][0:1000]:\n",
    "    txt_img(i)\n",
    "    name = 'diff_font/kanji_' + str(no)+'.png'\n",
    "    plt.savefig(name, dpi=25)\n",
    "    no +=1\n",
    "    # rot_img = np.array(Image.fromarray(np.array(Image.open(name).convert('L'))).rotate(fillcolor='white', angle=np.random.randint(360,size=1)))\n",
    "    data.append(np.expand_dims(np.array(Image.open(name).convert('L'))/255,axis=0))\n",
    "    # data.append(rot_img)\n",
    "\n"
   ]
  },
  {
   "cell_type": "code",
   "execution_count": 29,
   "metadata": {},
   "outputs": [],
   "source": [
    "# font_img = np.expand_dims(np.array(Image.open(test_path+'/tKanji.png').convert('L'))/255,0)\n",
    "predicted_stroke = []\n",
    "for i in data:\n",
    "    predicted_stroke.append(new_model.predict(i, verbose=0).argmax())"
   ]
  },
  {
   "cell_type": "code",
   "execution_count": 50,
   "metadata": {},
   "outputs": [],
   "source": [
    "correct_stroke = []\n",
    "for i in df_extra['strokes'][0:1000]:\n",
    "    correct_stroke.append(i)"
   ]
  },
  {
   "cell_type": "code",
   "execution_count": 51,
   "metadata": {},
   "outputs": [],
   "source": [
    "tot_corr = 0\n",
    "for i in range(0,1000):\n",
    "    if predicted_stroke[i] == correct_stroke[i]:\n",
    "        tot_corr +=1"
   ]
  },
  {
   "cell_type": "code",
   "execution_count": 52,
   "metadata": {},
   "outputs": [
    {
     "data": {
      "text/plain": [
       "'38.2%'"
      ]
     },
     "execution_count": 52,
     "metadata": {},
     "output_type": "execute_result"
    }
   ],
   "source": [
    "str(tot_corr/(len(correct_stroke))*100)+'%'"
   ]
  },
  {
   "cell_type": "code",
   "execution_count": null,
   "metadata": {},
   "outputs": [],
   "source": []
  }
 ],
 "metadata": {
  "kernelspec": {
   "display_name": "Python 3",
   "language": "python",
   "name": "python3"
  },
  "language_info": {
   "codemirror_mode": {
    "name": "ipython",
    "version": 3
   },
   "file_extension": ".py",
   "mimetype": "text/x-python",
   "name": "python",
   "nbconvert_exporter": "python",
   "pygments_lexer": "ipython3",
   "version": "3.9.16"
  },
  "orig_nbformat": 4
 },
 "nbformat": 4,
 "nbformat_minor": 2
}
